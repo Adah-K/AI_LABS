{
  "nbformat": 4,
  "nbformat_minor": 0,
  "metadata": {
    "colab": {
      "name": "BFS_for__SDC.ipynb",
      "provenance": [],
      "authorship_tag": "ABX9TyOyb7stgO1nL9CnIia3whKc",
      "include_colab_link": true
    },
    "kernelspec": {
      "name": "python3",
      "display_name": "Python 3"
    }
  },
  "cells": [
    {
      "cell_type": "markdown",
      "metadata": {
        "id": "view-in-github",
        "colab_type": "text"
      },
      "source": [
        "<a href=\"https://colab.research.google.com/github/Adah-K/AI_LABS/blob/main/BFS_for__SDC.ipynb\" target=\"_parent\"><img src=\"https://colab.research.google.com/assets/colab-badge.svg\" alt=\"Open In Colab\"/></a>"
      ]
    },
    {
      "cell_type": "code",
      "metadata": {
        "id": "JXbCf6GcCMQu"
      },
      "source": [
        "import networkx as nx\r\n",
        "import matplotlib.pyplot as plt\r\n",
        "from collections import defaultdict"
      ],
      "execution_count": 1,
      "outputs": []
    },
    {
      "cell_type": "code",
      "metadata": {
        "id": "YR3dwTFGC3i2"
      },
      "source": [
        "class BfsTraverser: \r\n",
        "  # Constructor \r\n",
        "  def __init__(self): \r\n",
        "    self.visited = []\r\n",
        "    self.end_search = False\r\n",
        "  def BFS(self,graph, start_node, goal_node):\r\n",
        "    queue = []\r\n",
        "    queue.append(start_node)\r\n",
        "    #print(queue)\r\n",
        "    #set of visited nodes\r\n",
        "    self.visited.append(start_node)\r\n",
        "    while queue and not self.end_search: \r\n",
        "      # Dequeue a vertex from \r\n",
        "      s = queue.pop(0)          \r\n",
        "\r\n",
        "      # Get all adjacent vertices of the \r\n",
        "      # dequeued vertex s. If a adjacent \r\n",
        "      # has not been visited, then mark it \r\n",
        "      # visited and enqueue it \r\n",
        "      for i in list(graph[s]):\r\n",
        "        if i not in self.visited:\r\n",
        "          #print (\"Command; Drive from \",s,\" to \" ,i, \" Estate/Junction\", end = \"\\n\") \r\n",
        "          #print(\"Current Node is\",i, \" but the goal Node is \",goal_node)\r\n",
        "          print (\"Command; Drive to \" ,i, \" Estate/Junction\", end = \"\\n\")\r\n",
        "          if i is goal_node:\r\n",
        "            print(\"We have reached \",i,\" the final destination\")\r\n",
        "            self.visited.append(i)\r\n",
        "            self.end_search = True\r\n",
        "            break\r\n",
        "          else:\r\n",
        "            #print(\"Here\",self.end_search)\r\n",
        "            queue.append(i)\r\n",
        "            #visited[i] = True\r\n",
        "            self.visited.append(i)"
      ],
      "execution_count": 3,
      "outputs": []
    },
    {
      "cell_type": "markdown",
      "metadata": {
        "id": "Fel2WLAyC-DM"
      },
      "source": [
        "Initialize the network and add nodes"
      ]
    },
    {
      "cell_type": "code",
      "metadata": {
        "colab": {
          "base_uri": "https://localhost:8080/"
        },
        "id": "E3yGkCPlC9Wy",
        "outputId": "fecc1483-baff-4217-99f1-31b29b35e3a4"
      },
      "source": [
        "G = nx.Graph()\r\n",
        "nodes=[\"Karen\",\"J6\",\"Gitaru\",\"J1\",\"J4\",\"J7\"]\r\n",
        "G.add_nodes_from(nodes)\r\n",
        "G.nodes()"
      ],
      "execution_count": 4,
      "outputs": [
        {
          "output_type": "execute_result",
          "data": {
            "text/plain": [
              "NodeView(('Karen', 'J6', 'Gitaru', 'J1', 'J4', 'J7'))"
            ]
          },
          "metadata": {
            "tags": []
          },
          "execution_count": 4
        }
      ]
    },
    {
      "cell_type": "markdown",
      "metadata": {
        "id": "13OdBNEZDdSM"
      },
      "source": [
        "Add Edges and their weights to the Nodes"
      ]
    },
    {
      "cell_type": "code",
      "metadata": {
        "id": "HLW5VF2fDika"
      },
      "source": [
        "G.add_edge(\"Karen\",\"J1\",weight=\"2.8\")\r\n",
        "G.add_edge(\"Karen\",\"J6\",weight=\"4\")\r\n",
        "G.add_edge(\"J1\",\"J4\",weight=\"2.6\")\r\n",
        "G.add_edge(\"J6\",\"Gitaru\",weight=\"10\")\r\n",
        "G.add_edge(\"J6\",\"J7\",weight=\"6\")\r\n",
        "G.add_edge(\"J6\",\"J4\",weight=\"6\")\r\n",
        "G.add_edge(\"Gitaru\",\"J7\",weight=\"6\")"
      ],
      "execution_count": 5,
      "outputs": []
    },
    {
      "cell_type": "markdown",
      "metadata": {
        "id": "Itf6KrDjDoVY"
      },
      "source": [
        "View the initial graph"
      ]
    },
    {
      "cell_type": "code",
      "metadata": {
        "colab": {
          "base_uri": "https://localhost:8080/",
          "height": 248
        },
        "id": "f5u9kHNeDrq3",
        "outputId": "9c4e4d00-1356-452c-c774-2587be2b202a"
      },
      "source": [
        "nx.draw_networkx(G)"
      ],
      "execution_count": 7,
      "outputs": [
        {
          "output_type": "display_data",
          "data": {
            "image/png": "[encoded data removed]",
            "text/plain": [
              "<Figure size 432x288 with 1 Axes>"
            ]
          },
          "metadata": {
            "tags": []
          }
        }
      ]
    },
    {
      "cell_type": "markdown",
      "metadata": {
        "id": "H0LrWtOED8HT"
      },
      "source": [
        "Position the nodes"
      ]
    },
    {
      "cell_type": "code",
      "metadata": {
        "id": "Ir-BBc8BD-IP"
      },
      "source": [
        "G.nodes[\"Karen\"]['pos']=(0,0)\r\n",
        "G.nodes[\"J6\"]['pos']=(0,2)\r\n",
        "G.nodes[\"J1\"]['pos']=(2,-2)\r\n",
        "G.nodes[\"J4\"]['pos']=(4,-2)\r\n",
        "G.nodes[\"J7\"]['pos']=(0,4)\r\n",
        "G.nodes[\"Gitaru\"]['pos']=(-1,3)"
      ],
      "execution_count": 8,
      "outputs": []
    },
    {
      "cell_type": "markdown",
      "metadata": {
        "id": "pr6gyBKyECrm"
      },
      "source": [
        "Store all positions"
      ]
    },
    {
      "cell_type": "code",
      "metadata": {
        "id": "zaJZz2ryECTk"
      },
      "source": [
        "node_pos = nx.get_node_attributes(G,'pos')"
      ],
      "execution_count": 9,
      "outputs": []
    },
    {
      "cell_type": "markdown",
      "metadata": {
        "id": "qIrDvtv4EMuR"
      },
      "source": [
        "Call BFS class"
      ]
    },
    {
      "cell_type": "code",
      "metadata": {
        "colab": {
          "base_uri": "https://localhost:8080/"
        },
        "id": "UUd2ySVgEPEh",
        "outputId": "ca2d4b31-d1dd-46a9-fbea-a24e01409ba1"
      },
      "source": [
        "route_bfs = BfsTraverser()\r\n",
        "routes = route_bfs.BFS(G,\"Karen\",\"Gitaru\")\r\n",
        "print(\"\\n Considered routes are: \",route_bfs.visited)"
      ],
      "execution_count": 10,
      "outputs": [
        {
          "output_type": "stream",
          "text": [
            "Command; Drive to  J1  Estate/Junction\n",
            "Command; Drive to  J6  Estate/Junction\n",
            "Command; Drive to  J4  Estate/Junction\n",
            "Command; Drive to  Gitaru  Estate/Junction\n",
            "We have reached  Gitaru  the final destination\n",
            "\n",
            " Considered routes are:  ['Karen', 'J1', 'J6', 'J4', 'Gitaru']\n"
          ],
          "name": "stdout"
        }
      ]
    },
    {
      "cell_type": "markdown",
      "metadata": {
        "id": "CgJAXfWgEVZ3"
      },
      "source": [
        "color the route"
      ]
    },
    {
      "cell_type": "code",
      "metadata": {
        "id": "fEcHnrOhEY4Y"
      },
      "source": [
        "route_list = route_bfs.visited\r\n",
        "node_col = ['darkturquoise' if not node in route_list else 'peru' for node in G.nodes()]\r\n",
        "peru_colored_edges = list(zip(route_list,route_list[1:]))\r\n",
        "edge_col = ['darkturquoise' if not edge in peru_colored_edges else 'peru' for edge in G.edges()]\r\n",
        "#print(peru_colored_edges)"
      ],
      "execution_count": 11,
      "outputs": []
    },
    {
      "cell_type": "markdown",
      "metadata": {
        "id": "xxwFJ8fREc9J"
      },
      "source": [
        "Final network graph"
      ]
    },
    {
      "cell_type": "code",
      "metadata": {
        "colab": {
          "base_uri": "https://localhost:8080/",
          "height": 248
        },
        "id": "Uh5g9aTQEf8b",
        "outputId": "d62289a5-df59-4f21-9789-1a1163eb863e"
      },
      "source": [
        "arc_weight=nx.get_edge_attributes(G,'weight')\r\n",
        "nx.draw_networkx(G, node_pos,node_color= node_col, node_size=450)\r\n",
        "nx.draw_networkx_edges(G, node_pos,width=2,edge_color= edge_col)\r\n",
        "nx.draw_networkx_edge_labels(G, node_pos, edge_labels=arc_weight)\r\n",
        "plt.axis('off')\r\n",
        "plt.show()"
      ],
      "execution_count": 12,
      "outputs": [
        {
          "output_type": "display_data",
          "data": {
            "image/png": "[encoded data removed]",
            "text/plain": [
              "<Figure size 432x288 with 1 Axes>"
            ]
          },
          "metadata": {
            "tags": []
          }
        }
      ]
    }
  ]
}