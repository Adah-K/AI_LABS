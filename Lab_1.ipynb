{
  "nbformat": 4,
  "nbformat_minor": 0,
  "metadata": {
    "colab": {
      "name": "Lab 1.ipynb",
      "provenance": [],
      "authorship_tag": "ABX9TyMmI6w16QxCYU4ensH453ok",
      "include_colab_link": true
    },
    "kernelspec": {
      "name": "python3",
      "display_name": "Python 3"
    }
  },
  "cells": [
    {
      "cell_type": "markdown",
      "metadata": {
        "id": "view-in-github",
        "colab_type": "text"
      },
      "source": [
        "<a href=\"https://colab.research.google.com/github/Adah-K/AI_LABS/blob/main/Lab_1.ipynb\" target=\"_parent\"><img src=\"https://colab.research.google.com/assets/colab-badge.svg\" alt=\"Open In Colab\"/></a>"
      ]
    },
    {
      "cell_type": "markdown",
      "metadata": {
        "id": "YAprce2aPQSa"
      },
      "source": [
        "QUESTION 1"
      ]
    },
    {
      "cell_type": "markdown",
      "metadata": {
        "id": "OhysxyTkLU7f"
      },
      "source": [
        "Import Libraries"
      ]
    },
    {
      "cell_type": "code",
      "metadata": {
        "id": "TgDPIxQZKlmG"
      },
      "source": [
        "import networkx as nx\r\n",
        "import matplotlib.pyplot as plt"
      ],
      "execution_count": 1,
      "outputs": []
    },
    {
      "cell_type": "markdown",
      "metadata": {
        "id": "WLhDYpNHLY4e"
      },
      "source": [
        "Initialize Network"
      ]
    },
    {
      "cell_type": "code",
      "metadata": {
        "colab": {
          "base_uri": "https://localhost:8080/"
        },
        "id": "mVhXsBZ0LdRd",
        "outputId": "558f93d1-9173-4872-bf5f-8403f9601a67"
      },
      "source": [
        "G = nx.Graph()\r\n",
        "nodes = [\"Sports Complex\",\"Siwaka\",\"Phase 1\",\"Phase 1B\",\"Phase 2\",\"STC\",\"Phase 3\",\"J1\",\"Madaraka\",\"Parking\"]\r\n",
        "G.add_nodes_from(nodes)\r\n",
        "G.nodes()"
      ],
      "execution_count": 2,
      "outputs": [
        {
          "output_type": "execute_result",
          "data": {
            "text/plain": [
              "NodeView(('Sports Complex', 'Siwaka', 'Phase 1', 'Phase 1B', 'Phase 2', 'STC', 'Phase 3', 'J1', 'Madaraka', 'Parking'))"
            ]
          },
          "metadata": {
            "tags": []
          },
          "execution_count": 2
        }
      ]
    },
    {
      "cell_type": "markdown",
      "metadata": {
        "id": "lgLdgoKOMSQe"
      },
      "source": [
        "Add Edges and Their Weights "
      ]
    },
    {
      "cell_type": "code",
      "metadata": {
        "id": "KC6XJKbhMcUN"
      },
      "source": [
        "G.add_edge(\"Sports Complex\",\"Siwaka\",weight = \"450\")\r\n",
        "G.add_edge(\"Siwaka\",\"Phase 1\",weight = \"10\")\r\n",
        "G.add_edge(\"Phase 1\",\"Madaraka\",weight = \"850\")\r\n",
        "G.add_edge(\"Madaraka\",\"Parking\",weight = \"700\")\r\n",
        "G.add_edge(\"Siwaka\",\"Phase 1B\",weight = \"230\")\r\n",
        "G.add_edge(\"Phase 1B\",\"STC\",weight = \"50\")\r\n",
        "G.add_edge(\"STC\",\"Parking\",weight = \"250\")\r\n",
        "G.add_edge(\"Phase 1\",\"Phase 1B\",weight = \"100\")\r\n",
        "G.add_edge(\"Phase 1B\",\"Phase 2\",weight = \"112\")\r\n",
        "G.add_edge(\"Phase 2\",\"J1\",weight = \"600\")\r\n",
        "G.add_edge(\"J1\",\"Madaraka\",weight = \"200\")\r\n",
        "G.add_edge(\"STC\",\"Phase 2\",weight = \"50\")\r\n",
        "G.add_edge(\"Phase 2\",\"Phase 3\",weight = \"500\")\r\n",
        "G.add_edge(\"Phase 3\",\"Parking\",weight = \"350\")\r\n"
      ],
      "execution_count": 15,
      "outputs": []
    },
    {
      "cell_type": "markdown",
      "metadata": {
        "id": "OLwlq378Qj4j"
      },
      "source": [
        "Position the nodes"
      ]
    },
    {
      "cell_type": "markdown",
      "metadata": {
        "id": "siMT8AX0OuCP"
      },
      "source": [
        "View Graph"
      ]
    },
    {
      "cell_type": "code",
      "metadata": {
        "colab": {
          "base_uri": "https://localhost:8080/",
          "height": 248
        },
        "id": "WEStmAqgOv9p",
        "outputId": "a98b988a-f2a2-4490-a1c8-7cc3835db7c9"
      },
      "source": [
        "nx.draw_networkx(G)"
      ],
      "execution_count": 16,
      "outputs": [
        {
          "output_type": "display_data",
          "data": {
            "image/png": "[encoded data removed]",
            "text/plain": [
              "<Figure size 432x288 with 1 Axes>"
            ]
          },
          "metadata": {
            "tags": []
          }
        }
      ]
    },
    {
      "cell_type": "markdown",
      "metadata": {
        "id": "51puOcS0PMD3"
      },
      "source": [
        "END OF QUESTION 1"
      ]
    },
    {
      "cell_type": "markdown",
      "metadata": {
        "id": "ERyYXVaSPWFr"
      },
      "source": [
        "QUESTION 2 - BFS CLASS"
      ]
    },
    {
      "cell_type": "code",
      "metadata": {
        "id": "C9fdYDrBPX51"
      },
      "source": [
        "class BfsTraverser: \r\n",
        "  # Constructor \r\n",
        "  def __init__(self): \r\n",
        "    self.visited = []\r\n",
        "    self.end_search = False\r\n",
        "  def BFS(self,graph, start_node, goal_node):\r\n",
        "    queue = []\r\n",
        "    queue.append(start_node)\r\n",
        "    #print(queue)\r\n",
        "    #set of visited nodes\r\n",
        "    self.visited.append(start_node)\r\n",
        "    while queue and not self.end_search: \r\n",
        "      # Dequeue a vertex from \r\n",
        "      s = queue.pop(0)          \r\n",
        "\r\n",
        "      # Get all adjacent vertices of the \r\n",
        "      # dequeued vertex s. If a adjacent \r\n",
        "      # has not been visited, then mark it \r\n",
        "      # visited and enqueue it \r\n",
        "      for i in list(graph[s]):\r\n",
        "        if i not in self.visited:\r\n",
        "          #print (\"Command; Drive from \",s,\" to \" ,i, \" Estate/Junction\", end = \"\\n\") \r\n",
        "          #print(\"Current Node is\",i, \" but the goal Node is \",goal_node)\r\n",
        "          print (\"Command; Drive to \" ,i, \" \", end = \"\\n\")\r\n",
        "          if i is goal_node:\r\n",
        "            print(\"We have reached \",i,\" the final destination\")\r\n",
        "            self.visited.append(i)\r\n",
        "            self.end_search = True\r\n",
        "            break\r\n",
        "          else:\r\n",
        "            #print(\"Here\",self.end_search)\r\n",
        "            queue.append(i)\r\n",
        "            #visited[i] = True\r\n",
        "            self.visited.append(i)"
      ],
      "execution_count": 17,
      "outputs": []
    },
    {
      "cell_type": "markdown",
      "metadata": {
        "id": "qlZ-iZtPP3ht"
      },
      "source": [
        "END OF QUESTION 2"
      ]
    },
    {
      "cell_type": "markdown",
      "metadata": {
        "id": "k6Ai-oNIP5ye"
      },
      "source": [
        "QUESTION 3 - CALL THE FUNCTION AND COLOR THE NODES"
      ]
    },
    {
      "cell_type": "code",
      "metadata": {
        "colab": {
          "base_uri": "https://localhost:8080/"
        },
        "id": "8uflMCQ6QA_O",
        "outputId": "85c1a540-4072-4b5f-cc15-fabde894574d"
      },
      "source": [
        "route_bfs = BfsTraverser()\r\n",
        "routes = route_bfs.BFS(G,\"Sports Complex\",\"Parking\")\r\n",
        "print(\"\\n Considered routes are: \",route_bfs.visited)"
      ],
      "execution_count": 18,
      "outputs": [
        {
          "output_type": "stream",
          "text": [
            "Command; Drive to  Siwaka  \n",
            "Command; Drive to  Phase 1  \n",
            "Command; Drive to  Phase 1B  \n",
            "Command; Drive to  Madaraka  \n",
            "Command; Drive to  Phase 2  \n",
            "Command; Drive to  STC  \n",
            "Command; Drive to  J1  \n",
            "Command; Drive to  Parking  \n",
            "We have reached  Parking  the final destination\n",
            "\n",
            " Considered routes are:  ['Sports Complex', 'Siwaka', 'Phase 1', 'Phase 1B', 'Madaraka', 'Phase 2', 'STC', 'J1', 'Parking']\n"
          ],
          "name": "stdout"
        }
      ]
    }
  ]
}